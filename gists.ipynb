{
 "cells": [
  {
   "cell_type": "raw",
   "metadata": {},
   "source": [
    "Konstantin Cyber, [13.09.18 17:29]\n",
    "так как для сценария будут ридонли операции необходимо продумать что-то осмысленное, например, типовой сценарий для блокчейн-эксплоера\n",
    "1) запрос блока\n",
    "2) запрос транзакции в блоке\n",
    "3) запрос параметров БС\n",
    "4) запрос глобальных параметров БЧ\n",
    "\n",
    "Konstantin Cyber, [13.09.18 17:30]\n",
    "вот тут перваая секция\n",
    "http://docs.bitshares.org/api/database.html\n",
    "\n",
    "Konstantin Cyber, [13.09.18 17:30]\n",
    "get_block, get_transaction, get_chain_properties, get_global_properties, get_config, get_chain_id, get_dynamic_global_properties, get_accounts"
   ]
  },
  {
   "cell_type": "code",
   "execution_count": 1,
   "metadata": {},
   "outputs": [],
   "source": [
    "import os\n",
    "import sys\n",
    "import bitshares\n",
    "import unittest\n",
    "import json\n",
    "\n",
    "from bitshares import BitShares\n",
    "\n",
    "import logging"
   ]
  },
  {
   "cell_type": "code",
   "execution_count": 8,
   "metadata": {},
   "outputs": [],
   "source": [
    "scenario = {}\n",
    "script_name = \"scenario.json\"\n",
    "with open(script_name, 'rt') as file:\n",
    "    scenario = json.load(file)"
   ]
  },
  {
   "cell_type": "code",
   "execution_count": 9,
   "metadata": {},
   "outputs": [
    {
     "name": "stdout",
     "output_type": "stream",
     "text": [
      "{'stages': [{'method': 'get_block', 'params': [1]}, {'method': 'get_transaction'}, {'method': 'get_chain_properties'}, {'method': 'get_global_properties'}, {'method': 'get_config'}, {'method': 'get_chain_id'}, {'method': 'get_dynamic_global_properties'}, {'method': 'get_accounts'}]}\n"
     ]
    }
   ],
   "source": [
    "if not scenario or not scenario.get(\"stages\", 0):\n",
    "    print(\"Empty stages!\")"
   ]
  },
  {
   "cell_type": "code",
   "execution_count": 11,
   "metadata": {},
   "outputs": [],
   "source": [
    "network = bitshares.BitShares(\"ws://newton.array.io:8090\", nobroadcast=True, debug=True)"
   ]
  },
  {
   "cell_type": "code",
   "execution_count": 3,
   "metadata": {},
   "outputs": [
    {
     "name": "stdout",
     "output_type": "stream",
     "text": [
      "<Block 1>\n"
     ]
    }
   ],
   "source": [
    "# Obtain the content of one block\n",
    "from bitshares.block import Block\n",
    "print(Block(1))"
   ]
  },
  {
   "cell_type": "code",
   "execution_count": 25,
   "metadata": {},
   "outputs": [],
   "source": [
    "test_block = bitshares.block.Block(1, blockchain_instance=network, lazy=False)\n",
    "#test_block.refresh()"
   ]
  },
  {
   "cell_type": "code",
   "execution_count": 26,
   "metadata": {},
   "outputs": [
    {
     "data": {
      "text/plain": [
       "datetime.datetime(2018, 8, 30, 14, 14, 25, tzinfo=datetime.timezone.utc)"
      ]
     },
     "execution_count": 26,
     "metadata": {},
     "output_type": "execute_result"
    }
   ],
   "source": [
    "test_block.time()"
   ]
  },
  {
   "cell_type": "code",
   "execution_count": 33,
   "metadata": {},
   "outputs": [
    {
     "name": "stdout",
     "output_type": "stream",
     "text": [
      "{'previous': '0000000000000000000000000000000000000000', 'timestamp': '2018-08-30T14:14:25', 'witness': '1.5.8', 'transaction_merkle_root': '0000000000000000000000000000000000000000', 'extensions': [], 'witness_signature': '20657ad70268138130790bf99c45a187a25e76024b362d99a6e3cd90870abf483322a1ada37ffdd7d53b3c3a5478bed21b4dad95396f6264d50b87b386775b61f9', 'transactions': [], 'id': '1'}\n"
     ]
    }
   ],
   "source": [
    "print(dict(test_block))"
   ]
  },
  {
   "cell_type": "code",
   "execution_count": 34,
   "metadata": {},
   "outputs": [
    {
     "data": {
      "text/plain": [
       "'{\"previous\": \"0000000000000000000000000000000000000000\", \"timestamp\": \"2018-08-30T14:14:25\", \"witness\": \"1.5.8\", \"transaction_merkle_root\": \"0000000000000000000000000000000000000000\", \"extensions\": [], \"witness_signature\": \"20657ad70268138130790bf99c45a187a25e76024b362d99a6e3cd90870abf483322a1ada37ffdd7d53b3c3a5478bed21b4dad95396f6264d50b87b386775b61f9\", \"transactions\": [], \"id\": \"1\"}'"
      ]
     },
     "execution_count": 34,
     "metadata": {},
     "output_type": "execute_result"
    }
   ],
   "source": [
    "json.dumps(test_block)"
   ]
  },
  {
   "cell_type": "code",
   "execution_count": null,
   "metadata": {},
   "outputs": [],
   "source": [
    "print(network.info())"
   ]
  },
  {
   "cell_type": "code",
   "execution_count": null,
   "metadata": {},
   "outputs": [],
   "source": [
    "from bitshares.storage import configStorage as config"
   ]
  },
  {
   "cell_type": "code",
   "execution_count": null,
   "metadata": {},
   "outputs": [],
   "source": []
  },
  {
   "cell_type": "code",
   "execution_count": null,
   "metadata": {},
   "outputs": [],
   "source": [
    "print(config)"
   ]
  },
  {
   "cell_type": "code",
   "execution_count": null,
   "metadata": {},
   "outputs": [],
   "source": [
    "network.wallet.create(\"secret-passphrase\")"
   ]
  },
  {
   "cell_type": "code",
   "execution_count": null,
   "metadata": {},
   "outputs": [],
   "source": [
    "#from bitshares import BitShares\n",
    "#bts = BitShares(ENDPOINTURL)\n",
    "network.rpc.get_block(100)"
   ]
  },
  {
   "cell_type": "code",
   "execution_count": null,
   "metadata": {},
   "outputs": [],
   "source": [
    "dir(json)"
   ]
  },
  {
   "cell_type": "code",
   "execution_count": null,
   "metadata": {},
   "outputs": [],
   "source": [
    "login_json = \"\"\"{\"id\":2,\"method\":\"call\",\"params\":[1,\"login\",[\"\",\"\"]]}\"\"\""
   ]
  },
  {
   "cell_type": "code",
   "execution_count": null,
   "metadata": {},
   "outputs": [],
   "source": [
    "json.loads(login_json)"
   ]
  },
  {
   "cell_type": "code",
   "execution_count": null,
   "metadata": {},
   "outputs": [],
   "source": []
  }
 ],
 "metadata": {
  "kernelspec": {
   "display_name": "Python 3",
   "language": "python",
   "name": "python3"
  },
  "language_info": {
   "codemirror_mode": {
    "name": "ipython",
    "version": 3
   },
   "file_extension": ".py",
   "mimetype": "text/x-python",
   "name": "python",
   "nbconvert_exporter": "python",
   "pygments_lexer": "ipython3",
   "version": "3.6.5"
  }
 },
 "nbformat": 4,
 "nbformat_minor": 2
}
