{
 "cells": [
  {
   "cell_type": "raw",
   "metadata": {},
   "source": [
    "Konstantin Cyber, [13.09.18 17:29]\n",
    "так как для сценария будут ридонли операции необходимо продумать что-то осмысленное, например, типовой сценарий для блокчейн-эксплоера\n",
    "1) запрос блока\n",
    "2) запрос транзакции в блоке\n",
    "3) запрос параметров БС\n",
    "4) запрос глобальных параметров БЧ\n",
    "\n",
    "Konstantin Cyber, [13.09.18 17:30]\n",
    "вот тут перваая секция\n",
    "http://docs.bitshares.org/api/database.html\n",
    "\n",
    "Konstantin Cyber, [13.09.18 17:30]\n",
    "get_block, get_transaction, get_chain_properties, get_global_properties, get_config, get_chain_id, get_dynamic_global_properties, get_accounts"
   ]
  },
  {
   "cell_type": "code",
   "execution_count": 1,
   "metadata": {},
   "outputs": [],
   "source": [
    "import os\n",
    "import sys\n",
    "import bitshares\n",
    "import unittest\n",
    "import json\n",
    "\n",
    "from bitshares import BitShares\n",
    "\n",
    "import logging"
   ]
  },
  {
   "cell_type": "code",
   "execution_count": 2,
   "metadata": {},
   "outputs": [],
   "source": [
    "scenario = {}\n",
    "script_name = \"scenario.json\"\n",
    "with open(script_name, 'rt') as file:\n",
    "    scenario = json.load(file)"
   ]
  },
  {
   "cell_type": "code",
   "execution_count": 3,
   "metadata": {},
   "outputs": [],
   "source": [
    "if not scenario or not scenario.get(\"stages\", 0):\n",
    "    print(\"Empty stages!\")"
   ]
  },
  {
   "cell_type": "code",
   "execution_count": 4,
   "metadata": {},
   "outputs": [],
   "source": [
    "network = bitshares.BitShares(\"ws://newton.array.io:8090\", nobroadcast=True, debug=True)"
   ]
  },
  {
   "cell_type": "code",
   "execution_count": 14,
   "metadata": {},
   "outputs": [
    {
     "data": {
      "text/plain": [
       "'ws://newton.array.io:8090'"
      ]
     },
     "execution_count": 14,
     "metadata": {},
     "output_type": "execute_result"
    }
   ],
   "source": [
    "(network.rpc.url)"
   ]
  },
  {
   "cell_type": "code",
   "execution_count": 5,
   "metadata": {},
   "outputs": [
    {
     "name": "stdout",
     "output_type": "stream",
     "text": [
      "<Block 1>\n"
     ]
    }
   ],
   "source": [
    "# Obtain the content of one block\n",
    "from bitshares.block import Block\n",
    "print(Block(1))"
   ]
  },
  {
   "cell_type": "code",
   "execution_count": 6,
   "metadata": {},
   "outputs": [],
   "source": [
    "test_block = bitshares.block.Block(1, blockchain_instance=network, lazy=False)\n",
    "#test_block.refresh()"
   ]
  },
  {
   "cell_type": "code",
   "execution_count": 7,
   "metadata": {},
   "outputs": [
    {
     "data": {
      "text/plain": [
       "datetime.datetime(2018, 8, 30, 14, 14, 25, tzinfo=datetime.timezone.utc)"
      ]
     },
     "execution_count": 7,
     "metadata": {},
     "output_type": "execute_result"
    }
   ],
   "source": [
    "test_block.time()"
   ]
  },
  {
   "cell_type": "code",
   "execution_count": 8,
   "metadata": {},
   "outputs": [
    {
     "name": "stdout",
     "output_type": "stream",
     "text": [
      "{'previous': '0000000000000000000000000000000000000000', 'timestamp': '2018-08-30T14:14:25', 'witness': '1.5.8', 'transaction_merkle_root': '0000000000000000000000000000000000000000', 'extensions': [], 'witness_signature': '20657ad70268138130790bf99c45a187a25e76024b362d99a6e3cd90870abf483322a1ada37ffdd7d53b3c3a5478bed21b4dad95396f6264d50b87b386775b61f9', 'transactions': [], 'id': '1'}\n"
     ]
    }
   ],
   "source": [
    "print(dict(test_block))"
   ]
  },
  {
   "cell_type": "code",
   "execution_count": 9,
   "metadata": {},
   "outputs": [
    {
     "data": {
      "text/plain": [
       "'{\"previous\": \"0000000000000000000000000000000000000000\", \"timestamp\": \"2018-08-30T14:14:25\", \"witness\": \"1.5.8\", \"transaction_merkle_root\": \"0000000000000000000000000000000000000000\", \"extensions\": [], \"witness_signature\": \"20657ad70268138130790bf99c45a187a25e76024b362d99a6e3cd90870abf483322a1ada37ffdd7d53b3c3a5478bed21b4dad95396f6264d50b87b386775b61f9\", \"transactions\": [], \"id\": \"1\"}'"
      ]
     },
     "execution_count": 9,
     "metadata": {},
     "output_type": "execute_result"
    }
   ],
   "source": [
    "json.dumps(test_block)"
   ]
  },
  {
   "cell_type": "code",
   "execution_count": 10,
   "metadata": {},
   "outputs": [
    {
     "name": "stdout",
     "output_type": "stream",
     "text": [
      "{'id': '2.1.0', 'head_block_number': 282663, 'head_block_id': '000450272ef63c12b129800f81e817ce3437142b', 'time': '2018-09-17T17:11:35', 'current_witness': '1.5.4', 'next_maintenance_time': '2018-09-17T17:20:00', 'last_budget_time': '2018-09-17T17:10:00', 'witness_budget': 0, 'accounts_registered_this_interval': 0, 'recently_missed_count': 2, 'current_aslot': 892828, 'recent_slots_filled': '339782932074537530250103859629246116843', 'dynamic_flags': 0, 'last_irreversible_block_num': 282656}\n"
     ]
    }
   ],
   "source": [
    "print(network.info())"
   ]
  }
 ],
 "metadata": {
  "kernelspec": {
   "display_name": "Python 3",
   "language": "python",
   "name": "python3"
  },
  "language_info": {
   "codemirror_mode": {
    "name": "ipython",
    "version": 3
   },
   "file_extension": ".py",
   "mimetype": "text/x-python",
   "name": "python",
   "nbconvert_exporter": "python",
   "pygments_lexer": "ipython3",
   "version": "3.6.5"
  }
 },
 "nbformat": 4,
 "nbformat_minor": 2
}
