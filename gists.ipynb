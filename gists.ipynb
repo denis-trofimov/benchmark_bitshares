{
 "cells": [
  {
   "cell_type": "raw",
   "metadata": {},
   "source": [
    "Konstantin Cyber, [13.09.18 17:29]\n",
    "так как для сценария будут ридонли операции необходимо продумать что-то осмысленное, например, типовой сценарий для блокчейн-эксплоера\n",
    "1) запрос блока\n",
    "2) запрос транзакции в блоке\n",
    "3) запрос параметров БС\n",
    "4) запрос глобальных параметров БЧ\n",
    "\n",
    "Konstantin Cyber, [13.09.18 17:30]\n",
    "вот тут перваая секция\n",
    "http://docs.bitshares.org/api/database.html\n",
    "\n",
    "Konstantin Cyber, [13.09.18 17:30]\n",
    "get_block, get_transaction, get_chain_properties, get_global_properties, get_config, get_chain_id, get_dynamic_global_properties, get_accounts"
   ]
  },
  {
   "cell_type": "code",
   "execution_count": 9,
   "metadata": {},
   "outputs": [],
   "source": [
    "import simplejson as json\n",
    "import logging\n",
    "from bitshares import BitShares\n",
    "from bitshares.block import Block, BlockHeader\n",
    "from bitshares.blockchain import Blockchain\n",
    "from bitshares.proposal import Proposals"
   ]
  },
  {
   "cell_type": "code",
   "execution_count": 10,
   "metadata": {},
   "outputs": [],
   "source": [
    "scenario = {}\n",
    "script_name = \"scenario.json\"\n",
    "with open(script_name, 'rt') as file:\n",
    "    scenario = json.load(file)"
   ]
  },
  {
   "cell_type": "code",
   "execution_count": 11,
   "metadata": {},
   "outputs": [],
   "source": [
    "if not scenario or not scenario.get(\"stages\", 0):\n",
    "    print(\"Empty stages!\")"
   ]
  },
  {
   "cell_type": "code",
   "execution_count": 12,
   "metadata": {},
   "outputs": [],
   "source": [
    "network = bts= bitshares.BitShares(\"ws://newton.array.io:8090\", nobroadcast=True, debug=True)"
   ]
  },
  {
   "cell_type": "code",
   "execution_count": 27,
   "metadata": {},
   "outputs": [
    {
     "name": "stdout",
     "output_type": "stream",
     "text": [
      "{\"id\": \"1.2.0\", \"name\": \"committee-account\", \"owner\": {\"weight_threshold\": 1, \"account_auths\": [], \"key_auths\": [], \"address_auths\": []}, \"active\": {\"weight_threshold\": 1, \"account_auths\": [], \"key_auths\": [], \"address_auths\": []}, \"options\": {\"memo_key\": \"RAY1111111111111111111111111111111114T1Anm\", \"voting_account\": \"1.2.5\", \"num_witness\": 0, \"num_committee\": 0, \"votes\": [], \"extensions\": []}, \"statistics\": \"2.5.0\", \"whitelisting_accounts\": [], \"blacklisting_accounts\": [], \"whitelisted_accounts\": [], \"blacklisted_accounts\": [], \"owner_special_authority\": [0, {}], \"active_special_authority\": [0, {}], \"top_n_control_flags\": 0}\n"
     ]
    }
   ],
   "source": [
    "from bitshares.account import Account\n",
    "account = Account(\"1.2.0\",  blockchain_instance=bts)\n",
    "print(json.dumps(account))"
   ]
  },
  {
   "cell_type": "code",
   "execution_count": 13,
   "metadata": {},
   "outputs": [
    {
     "data": {
      "text/plain": [
       "'ws://newton.array.io:8090'"
      ]
     },
     "execution_count": 13,
     "metadata": {},
     "output_type": "execute_result"
    }
   ],
   "source": [
    "(network.rpc.url)"
   ]
  },
  {
   "cell_type": "code",
   "execution_count": 14,
   "metadata": {},
   "outputs": [],
   "source": [
    "chain = Blockchain(mode=\"head\", blockchain_instance=bts)"
   ]
  },
  {
   "cell_type": "code",
   "execution_count": 17,
   "metadata": {},
   "outputs": [
    {
     "ename": "UnhandledRPCError",
     "evalue": "Bad Cast: Invalid cast from type 'uint64_type' to Object",
     "output_type": "error",
     "traceback": [
      "\u001b[0;31m---------------------------------------------------------------------------\u001b[0m",
      "\u001b[0;31mRPCError\u001b[0m                                  Traceback (most recent call last)",
      "\u001b[0;32m~/.virtualenvs/array/lib/python3.6/site-packages/grapheneapi/api.py\u001b[0m in \u001b[0;36mfunc\u001b[0;34m(*args, **kwargs)\u001b[0m\n\u001b[1;32m    136\u001b[0m                 \u001b[0;32mtry\u001b[0m\u001b[0;34m:\u001b[0m\u001b[0;34m\u001b[0m\u001b[0m\n\u001b[0;32m--> 137\u001b[0;31m                     \u001b[0mr\u001b[0m \u001b[0;34m=\u001b[0m \u001b[0mfunc\u001b[0m\u001b[0;34m(\u001b[0m\u001b[0;34m*\u001b[0m\u001b[0margs\u001b[0m\u001b[0;34m,\u001b[0m \u001b[0;34m**\u001b[0m\u001b[0mkwargs\u001b[0m\u001b[0;34m)\u001b[0m\u001b[0;34m\u001b[0m\u001b[0m\n\u001b[0m\u001b[1;32m    138\u001b[0m                     \u001b[0mself\u001b[0m\u001b[0;34m.\u001b[0m\u001b[0mreset_counter\u001b[0m\u001b[0;34m(\u001b[0m\u001b[0;34m)\u001b[0m\u001b[0;34m\u001b[0m\u001b[0m\n",
      "\u001b[0;32m~/.virtualenvs/array/lib/python3.6/site-packages/grapheneapi/rpc.py\u001b[0m in \u001b[0;36mmethod\u001b[0;34m(*args, **kwargs)\u001b[0m\n\u001b[1;32m     92\u001b[0m             \u001b[0mr\u001b[0m \u001b[0;34m=\u001b[0m \u001b[0mself\u001b[0m\u001b[0;34m.\u001b[0m\u001b[0mrpcexec\u001b[0m\u001b[0;34m(\u001b[0m\u001b[0mquery\u001b[0m\u001b[0;34m)\u001b[0m\u001b[0;34m\u001b[0m\u001b[0m\n\u001b[0;32m---> 93\u001b[0;31m             \u001b[0mmessage\u001b[0m \u001b[0;34m=\u001b[0m \u001b[0mself\u001b[0m\u001b[0;34m.\u001b[0m\u001b[0mparse_response\u001b[0m\u001b[0;34m(\u001b[0m\u001b[0mr\u001b[0m\u001b[0;34m)\u001b[0m\u001b[0;34m\u001b[0m\u001b[0m\n\u001b[0m\u001b[1;32m     94\u001b[0m             \u001b[0;32mreturn\u001b[0m \u001b[0mmessage\u001b[0m\u001b[0;34m\u001b[0m\u001b[0m\n",
      "\u001b[0;32m~/.virtualenvs/array/lib/python3.6/site-packages/grapheneapi/rpc.py\u001b[0m in \u001b[0;36mparse_response\u001b[0;34m(self, query)\u001b[0m\n\u001b[1;32m     62\u001b[0m             \u001b[0;32melse\u001b[0m\u001b[0;34m:\u001b[0m\u001b[0;34m\u001b[0m\u001b[0m\n\u001b[0;32m---> 63\u001b[0;31m                 \u001b[0;32mraise\u001b[0m \u001b[0mRPCError\u001b[0m\u001b[0;34m(\u001b[0m\u001b[0mret\u001b[0m\u001b[0;34m[\u001b[0m\u001b[0;34m'error'\u001b[0m\u001b[0;34m]\u001b[0m\u001b[0;34m[\u001b[0m\u001b[0;34m'message'\u001b[0m\u001b[0;34m]\u001b[0m\u001b[0;34m)\u001b[0m\u001b[0;34m\u001b[0m\u001b[0m\n\u001b[0m\u001b[1;32m     64\u001b[0m         \u001b[0;32melse\u001b[0m\u001b[0;34m:\u001b[0m\u001b[0;34m\u001b[0m\u001b[0m\n",
      "\u001b[0;31mRPCError\u001b[0m: Bad Cast: Invalid cast from type 'uint64_type' to Object",
      "\nDuring handling of the above exception, another exception occurred:\n",
      "\u001b[0;31mUnhandledRPCError\u001b[0m                         Traceback (most recent call last)",
      "\u001b[0;32m<ipython-input-17-315f627d690b>\u001b[0m in \u001b[0;36m<module>\u001b[0;34m()\u001b[0m\n\u001b[0;32m----> 1\u001b[0;31m \u001b[0maccount\u001b[0m \u001b[0;34m=\u001b[0m \u001b[0mbts\u001b[0m\u001b[0;34m.\u001b[0m\u001b[0mrpc\u001b[0m\u001b[0;34m.\u001b[0m\u001b[0mget_accounts\u001b[0m\u001b[0;34m(\u001b[0m\u001b[0;34m[\u001b[0m\u001b[0;36m0\u001b[0m\u001b[0;34m]\u001b[0m\u001b[0;34m)\u001b[0m\u001b[0;34m\u001b[0m\u001b[0m\n\u001b[0m\u001b[1;32m      2\u001b[0m \u001b[0maccount\u001b[0m\u001b[0;34m\u001b[0m\u001b[0m\n",
      "\u001b[0;32m~/.virtualenvs/array/lib/python3.6/site-packages/grapheneapi/api.py\u001b[0m in \u001b[0;36mfunc\u001b[0;34m(*args, **kwargs)\u001b[0m\n\u001b[1;32m    143\u001b[0m                     \u001b[0;32mraise\u001b[0m\u001b[0;34m\u001b[0m\u001b[0m\n\u001b[1;32m    144\u001b[0m                 \u001b[0;32mexcept\u001b[0m \u001b[0mRPCError\u001b[0m \u001b[0;32mas\u001b[0m \u001b[0me\u001b[0m\u001b[0;34m:\u001b[0m\u001b[0;34m\u001b[0m\u001b[0m\n\u001b[0;32m--> 145\u001b[0;31m                     \u001b[0mself\u001b[0m\u001b[0;34m.\u001b[0m\u001b[0mpost_process_exception\u001b[0m\u001b[0;34m(\u001b[0m\u001b[0me\u001b[0m\u001b[0;34m)\u001b[0m\u001b[0;34m\u001b[0m\u001b[0m\n\u001b[0m\u001b[1;32m    146\u001b[0m                     \u001b[0;32mbreak\u001b[0m\u001b[0;34m\u001b[0m\u001b[0m\n\u001b[1;32m    147\u001b[0m                 \u001b[0;32mexcept\u001b[0m \u001b[0mException\u001b[0m \u001b[0;32mas\u001b[0m \u001b[0me\u001b[0m\u001b[0;34m:\u001b[0m\u001b[0;34m\u001b[0m\u001b[0m\n",
      "\u001b[0;32m~/.virtualenvs/array/lib/python3.6/site-packages/bitsharesapi/bitsharesnoderpc.py\u001b[0m in \u001b[0;36mpost_process_exception\u001b[0;34m(self, e)\u001b[0m\n\u001b[1;32m     17\u001b[0m             \u001b[0;32mraise\u001b[0m \u001b[0mexceptions\u001b[0m\u001b[0;34m.\u001b[0m\u001b[0mNoMethodWithName\u001b[0m\u001b[0;34m(\u001b[0m\u001b[0mmsg\u001b[0m\u001b[0;34m)\u001b[0m\u001b[0;34m\u001b[0m\u001b[0m\n\u001b[1;32m     18\u001b[0m         \u001b[0;32melif\u001b[0m \u001b[0mmsg\u001b[0m\u001b[0;34m:\u001b[0m\u001b[0;34m\u001b[0m\u001b[0m\n\u001b[0;32m---> 19\u001b[0;31m             \u001b[0;32mraise\u001b[0m \u001b[0mexceptions\u001b[0m\u001b[0;34m.\u001b[0m\u001b[0mUnhandledRPCError\u001b[0m\u001b[0;34m(\u001b[0m\u001b[0mmsg\u001b[0m\u001b[0;34m)\u001b[0m\u001b[0;34m\u001b[0m\u001b[0m\n\u001b[0m\u001b[1;32m     20\u001b[0m         \u001b[0;32melse\u001b[0m\u001b[0;34m:\u001b[0m\u001b[0;34m\u001b[0m\u001b[0m\n\u001b[1;32m     21\u001b[0m             \u001b[0;32mraise\u001b[0m \u001b[0me\u001b[0m\u001b[0;34m\u001b[0m\u001b[0m\n",
      "\u001b[0;31mUnhandledRPCError\u001b[0m: Bad Cast: Invalid cast from type 'uint64_type' to Object"
     ]
    }
   ],
   "source": [
    "account = bts.rpc.get_accounts([0])\n",
    "account"
   ]
  },
  {
   "cell_type": "code",
   "execution_count": 5,
   "metadata": {},
   "outputs": [
    {
     "name": "stdout",
     "output_type": "stream",
     "text": [
      "<Block 1>\n"
     ]
    }
   ],
   "source": [
    "# Obtain the content of one block\n",
    "from bitshares.block import Block\n",
    "print(Block(1))"
   ]
  },
  {
   "cell_type": "code",
   "execution_count": 6,
   "metadata": {},
   "outputs": [],
   "source": [
    "test_block = bitshares.block.Block(1, blockchain_instance=network, lazy=False)\n",
    "#test_block.refresh()"
   ]
  },
  {
   "cell_type": "code",
   "execution_count": 7,
   "metadata": {},
   "outputs": [
    {
     "data": {
      "text/plain": [
       "datetime.datetime(2018, 8, 30, 14, 14, 25, tzinfo=datetime.timezone.utc)"
      ]
     },
     "execution_count": 7,
     "metadata": {},
     "output_type": "execute_result"
    }
   ],
   "source": [
    "test_block.time()"
   ]
  },
  {
   "cell_type": "code",
   "execution_count": 8,
   "metadata": {},
   "outputs": [
    {
     "name": "stdout",
     "output_type": "stream",
     "text": [
      "{'previous': '0000000000000000000000000000000000000000', 'timestamp': '2018-08-30T14:14:25', 'witness': '1.5.8', 'transaction_merkle_root': '0000000000000000000000000000000000000000', 'extensions': [], 'witness_signature': '20657ad70268138130790bf99c45a187a25e76024b362d99a6e3cd90870abf483322a1ada37ffdd7d53b3c3a5478bed21b4dad95396f6264d50b87b386775b61f9', 'transactions': [], 'id': '1'}\n"
     ]
    }
   ],
   "source": [
    "print(dict(test_block))"
   ]
  },
  {
   "cell_type": "code",
   "execution_count": 9,
   "metadata": {},
   "outputs": [
    {
     "data": {
      "text/plain": [
       "'{\"previous\": \"0000000000000000000000000000000000000000\", \"timestamp\": \"2018-08-30T14:14:25\", \"witness\": \"1.5.8\", \"transaction_merkle_root\": \"0000000000000000000000000000000000000000\", \"extensions\": [], \"witness_signature\": \"20657ad70268138130790bf99c45a187a25e76024b362d99a6e3cd90870abf483322a1ada37ffdd7d53b3c3a5478bed21b4dad95396f6264d50b87b386775b61f9\", \"transactions\": [], \"id\": \"1\"}'"
      ]
     },
     "execution_count": 9,
     "metadata": {},
     "output_type": "execute_result"
    }
   ],
   "source": [
    "json.dumps(test_block)"
   ]
  },
  {
   "cell_type": "code",
   "execution_count": 10,
   "metadata": {},
   "outputs": [
    {
     "name": "stdout",
     "output_type": "stream",
     "text": [
      "{'id': '2.1.0', 'head_block_number': 282663, 'head_block_id': '000450272ef63c12b129800f81e817ce3437142b', 'time': '2018-09-17T17:11:35', 'current_witness': '1.5.4', 'next_maintenance_time': '2018-09-17T17:20:00', 'last_budget_time': '2018-09-17T17:10:00', 'witness_budget': 0, 'accounts_registered_this_interval': 0, 'recently_missed_count': 2, 'current_aslot': 892828, 'recent_slots_filled': '339782932074537530250103859629246116843', 'dynamic_flags': 0, 'last_irreversible_block_num': 282656}\n"
     ]
    }
   ],
   "source": [
    "print(network.info())"
   ]
  }
 ],
 "metadata": {
  "kernelspec": {
   "display_name": "Python 3",
   "language": "python",
   "name": "python3"
  },
  "language_info": {
   "codemirror_mode": {
    "name": "ipython",
    "version": 3
   },
   "file_extension": ".py",
   "mimetype": "text/x-python",
   "name": "python",
   "nbconvert_exporter": "python",
   "pygments_lexer": "ipython3",
   "version": "3.6.5"
  }
 },
 "nbformat": 4,
 "nbformat_minor": 2
}
